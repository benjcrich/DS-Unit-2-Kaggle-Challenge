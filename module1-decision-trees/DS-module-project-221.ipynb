{
 "cells": [
  {
   "cell_type": "markdown",
   "metadata": {
    "deletable": false,
    "editable": false,
    "nbgrader": {
     "cell_type": "markdown",
     "checksum": "ac72bfac81abf24f9450b9835bc85d07",
     "grade": false,
     "grade_id": "cell-06b3a652620668ef",
     "locked": true,
     "schema_version": 3,
     "solution": false,
     "task": false
    }
   },
   "source": [
    "Lambda School Data Science\n",
    "\n",
    "*Unit 2, Sprint 2, Module 1*\n",
    "\n",
    "---"
   ]
  },
  {
   "cell_type": "code",
   "execution_count": 1,
   "metadata": {
    "colab": {},
    "colab_type": "code",
    "deletable": false,
    "editable": false,
    "id": "o9eSnDYhUGD7",
    "nbgrader": {
     "cell_type": "code",
     "checksum": "d065a7f431f667bb063b90c023f0dbc1",
     "grade": false,
     "grade_id": "cell-e0ed37c9a5d0e6a9",
     "locked": true,
     "schema_version": 3,
     "solution": false,
     "task": false
    }
   },
   "outputs": [],
   "source": [
    "import sys\n",
    "\n",
    "# If you're on Colab:\n",
    "if 'google.colab' in sys.modules:\n",
    "    !pip install category_encoders==2.*\n",
    "    !pip install pandas-profiling==2.*\n",
    "\n",
    "DATA_PATH = 'https://raw.githubusercontent.com/LambdaSchool/DS-Unit-2-Kaggle-Challenge/master/data/'"
   ]
  },
  {
   "cell_type": "markdown",
   "metadata": {
    "deletable": false,
    "editable": false,
    "nbgrader": {
     "cell_type": "markdown",
     "checksum": "ff7078bb0a4fb4b482d13864539dc6d8",
     "grade": false,
     "grade_id": "cell-85703297fb27b195",
     "locked": true,
     "schema_version": 3,
     "solution": false,
     "task": false
    }
   },
   "source": [
    "# Decision Trees"
   ]
  },
  {
   "cell_type": "markdown",
   "metadata": {
    "deletable": false,
    "editable": false,
    "nbgrader": {
     "cell_type": "markdown",
     "checksum": "ad8f90528d5c7adfc38d154586deae52",
     "grade": false,
     "grade_id": "cell-4b05735817ab984e",
     "locked": true,
     "schema_version": 3,
     "solution": false,
     "task": false
    }
   },
   "source": [
    "## Kaggle\n",
    "\n",
    "**Task 1:** [Sign up for a Kaggle account](https://www.kaggle.com/), if you don’t already have one. Go to our Kaggle InClass competition website (the URL is in Slack). Go to the Rules page. Accept the rules of the competition. Notice that the Rules page also has instructions for the Submission process. The Data page has feature definitions."
   ]
  },
  {
   "cell_type": "markdown",
   "metadata": {
    "deletable": false,
    "editable": false,
    "nbgrader": {
     "cell_type": "markdown",
     "checksum": "fd9d50fa771b27245b5fd407ed3ea2e5",
     "grade": false,
     "grade_id": "cell-6c43283f79ddc4dc",
     "locked": true,
     "schema_version": 3,
     "solution": false,
     "task": false
    }
   },
   "source": [
    "## Wrangle Data\n",
    "\n",
    "**Task 2:** Add to the code below so that `id` is set as the index for `df`."
   ]
  },
  {
   "cell_type": "code",
   "execution_count": 2,
   "metadata": {
    "deletable": false,
    "nbgrader": {
     "cell_type": "code",
     "checksum": "a99d8dc738e24ba553771b58c41e4e82",
     "grade": false,
     "grade_id": "cell-e2eb2544508f89ef",
     "locked": false,
     "schema_version": 3,
     "solution": true,
     "task": false
    }
   },
   "outputs": [
    {
     "data": {
      "text/html": [
       "<div>\n",
       "<style scoped>\n",
       "    .dataframe tbody tr th:only-of-type {\n",
       "        vertical-align: middle;\n",
       "    }\n",
       "\n",
       "    .dataframe tbody tr th {\n",
       "        vertical-align: top;\n",
       "    }\n",
       "\n",
       "    .dataframe thead th {\n",
       "        text-align: right;\n",
       "    }\n",
       "</style>\n",
       "<table border=\"1\" class=\"dataframe\">\n",
       "  <thead>\n",
       "    <tr style=\"text-align: right;\">\n",
       "      <th></th>\n",
       "      <th>amount_tsh</th>\n",
       "      <th>date_recorded</th>\n",
       "      <th>funder</th>\n",
       "      <th>gps_height</th>\n",
       "      <th>installer</th>\n",
       "      <th>longitude</th>\n",
       "      <th>latitude</th>\n",
       "      <th>wpt_name</th>\n",
       "      <th>num_private</th>\n",
       "      <th>basin</th>\n",
       "      <th>...</th>\n",
       "      <th>water_quality</th>\n",
       "      <th>quality_group</th>\n",
       "      <th>quantity</th>\n",
       "      <th>quantity_group</th>\n",
       "      <th>source</th>\n",
       "      <th>source_type</th>\n",
       "      <th>source_class</th>\n",
       "      <th>waterpoint_type</th>\n",
       "      <th>waterpoint_type_group</th>\n",
       "      <th>status_group</th>\n",
       "    </tr>\n",
       "    <tr>\n",
       "      <th>id</th>\n",
       "      <th></th>\n",
       "      <th></th>\n",
       "      <th></th>\n",
       "      <th></th>\n",
       "      <th></th>\n",
       "      <th></th>\n",
       "      <th></th>\n",
       "      <th></th>\n",
       "      <th></th>\n",
       "      <th></th>\n",
       "      <th></th>\n",
       "      <th></th>\n",
       "      <th></th>\n",
       "      <th></th>\n",
       "      <th></th>\n",
       "      <th></th>\n",
       "      <th></th>\n",
       "      <th></th>\n",
       "      <th></th>\n",
       "      <th></th>\n",
       "      <th></th>\n",
       "    </tr>\n",
       "  </thead>\n",
       "  <tbody>\n",
       "    <tr>\n",
       "      <th>69572</th>\n",
       "      <td>6000.0</td>\n",
       "      <td>2011-03-14</td>\n",
       "      <td>Roman</td>\n",
       "      <td>1390</td>\n",
       "      <td>Roman</td>\n",
       "      <td>34.938093</td>\n",
       "      <td>-9.856322</td>\n",
       "      <td>none</td>\n",
       "      <td>0</td>\n",
       "      <td>Lake Nyasa</td>\n",
       "      <td>...</td>\n",
       "      <td>soft</td>\n",
       "      <td>good</td>\n",
       "      <td>enough</td>\n",
       "      <td>enough</td>\n",
       "      <td>spring</td>\n",
       "      <td>spring</td>\n",
       "      <td>groundwater</td>\n",
       "      <td>communal standpipe</td>\n",
       "      <td>communal standpipe</td>\n",
       "      <td>functional</td>\n",
       "    </tr>\n",
       "    <tr>\n",
       "      <th>8776</th>\n",
       "      <td>0.0</td>\n",
       "      <td>2013-03-06</td>\n",
       "      <td>Grumeti</td>\n",
       "      <td>1399</td>\n",
       "      <td>GRUMETI</td>\n",
       "      <td>34.698766</td>\n",
       "      <td>-2.147466</td>\n",
       "      <td>Zahanati</td>\n",
       "      <td>0</td>\n",
       "      <td>Lake Victoria</td>\n",
       "      <td>...</td>\n",
       "      <td>soft</td>\n",
       "      <td>good</td>\n",
       "      <td>insufficient</td>\n",
       "      <td>insufficient</td>\n",
       "      <td>rainwater harvesting</td>\n",
       "      <td>rainwater harvesting</td>\n",
       "      <td>surface</td>\n",
       "      <td>communal standpipe</td>\n",
       "      <td>communal standpipe</td>\n",
       "      <td>functional</td>\n",
       "    </tr>\n",
       "    <tr>\n",
       "      <th>34310</th>\n",
       "      <td>25.0</td>\n",
       "      <td>2013-02-25</td>\n",
       "      <td>Lottery Club</td>\n",
       "      <td>686</td>\n",
       "      <td>World vision</td>\n",
       "      <td>37.460664</td>\n",
       "      <td>-3.821329</td>\n",
       "      <td>Kwa Mahundi</td>\n",
       "      <td>0</td>\n",
       "      <td>Pangani</td>\n",
       "      <td>...</td>\n",
       "      <td>soft</td>\n",
       "      <td>good</td>\n",
       "      <td>enough</td>\n",
       "      <td>enough</td>\n",
       "      <td>dam</td>\n",
       "      <td>dam</td>\n",
       "      <td>surface</td>\n",
       "      <td>communal standpipe multiple</td>\n",
       "      <td>communal standpipe</td>\n",
       "      <td>functional</td>\n",
       "    </tr>\n",
       "    <tr>\n",
       "      <th>67743</th>\n",
       "      <td>0.0</td>\n",
       "      <td>2013-01-28</td>\n",
       "      <td>Unicef</td>\n",
       "      <td>263</td>\n",
       "      <td>UNICEF</td>\n",
       "      <td>38.486161</td>\n",
       "      <td>-11.155298</td>\n",
       "      <td>Zahanati Ya Nanyumbu</td>\n",
       "      <td>0</td>\n",
       "      <td>Ruvuma / Southern Coast</td>\n",
       "      <td>...</td>\n",
       "      <td>soft</td>\n",
       "      <td>good</td>\n",
       "      <td>dry</td>\n",
       "      <td>dry</td>\n",
       "      <td>machine dbh</td>\n",
       "      <td>borehole</td>\n",
       "      <td>groundwater</td>\n",
       "      <td>communal standpipe multiple</td>\n",
       "      <td>communal standpipe</td>\n",
       "      <td>non functional</td>\n",
       "    </tr>\n",
       "    <tr>\n",
       "      <th>19728</th>\n",
       "      <td>0.0</td>\n",
       "      <td>2011-07-13</td>\n",
       "      <td>Action In A</td>\n",
       "      <td>0</td>\n",
       "      <td>Artisan</td>\n",
       "      <td>31.130847</td>\n",
       "      <td>-1.825359</td>\n",
       "      <td>Shuleni</td>\n",
       "      <td>0</td>\n",
       "      <td>Lake Victoria</td>\n",
       "      <td>...</td>\n",
       "      <td>soft</td>\n",
       "      <td>good</td>\n",
       "      <td>seasonal</td>\n",
       "      <td>seasonal</td>\n",
       "      <td>rainwater harvesting</td>\n",
       "      <td>rainwater harvesting</td>\n",
       "      <td>surface</td>\n",
       "      <td>communal standpipe</td>\n",
       "      <td>communal standpipe</td>\n",
       "      <td>functional</td>\n",
       "    </tr>\n",
       "  </tbody>\n",
       "</table>\n",
       "<p>5 rows × 40 columns</p>\n",
       "</div>"
      ],
      "text/plain": [
       "       amount_tsh date_recorded        funder  gps_height     installer  \\\n",
       "id                                                                        \n",
       "69572      6000.0    2011-03-14         Roman        1390         Roman   \n",
       "8776          0.0    2013-03-06       Grumeti        1399       GRUMETI   \n",
       "34310        25.0    2013-02-25  Lottery Club         686  World vision   \n",
       "67743         0.0    2013-01-28        Unicef         263        UNICEF   \n",
       "19728         0.0    2011-07-13   Action In A           0       Artisan   \n",
       "\n",
       "       longitude   latitude              wpt_name  num_private  \\\n",
       "id                                                               \n",
       "69572  34.938093  -9.856322                  none            0   \n",
       "8776   34.698766  -2.147466              Zahanati            0   \n",
       "34310  37.460664  -3.821329           Kwa Mahundi            0   \n",
       "67743  38.486161 -11.155298  Zahanati Ya Nanyumbu            0   \n",
       "19728  31.130847  -1.825359               Shuleni            0   \n",
       "\n",
       "                         basin  ... water_quality quality_group      quantity  \\\n",
       "id                              ...                                             \n",
       "69572               Lake Nyasa  ...          soft          good        enough   \n",
       "8776             Lake Victoria  ...          soft          good  insufficient   \n",
       "34310                  Pangani  ...          soft          good        enough   \n",
       "67743  Ruvuma / Southern Coast  ...          soft          good           dry   \n",
       "19728            Lake Victoria  ...          soft          good      seasonal   \n",
       "\n",
       "       quantity_group                source           source_type  \\\n",
       "id                                                                  \n",
       "69572          enough                spring                spring   \n",
       "8776     insufficient  rainwater harvesting  rainwater harvesting   \n",
       "34310          enough                   dam                   dam   \n",
       "67743             dry           machine dbh              borehole   \n",
       "19728        seasonal  rainwater harvesting  rainwater harvesting   \n",
       "\n",
       "       source_class              waterpoint_type waterpoint_type_group  \\\n",
       "id                                                                       \n",
       "69572   groundwater           communal standpipe    communal standpipe   \n",
       "8776        surface           communal standpipe    communal standpipe   \n",
       "34310       surface  communal standpipe multiple    communal standpipe   \n",
       "67743   groundwater  communal standpipe multiple    communal standpipe   \n",
       "19728       surface           communal standpipe    communal standpipe   \n",
       "\n",
       "         status_group  \n",
       "id                     \n",
       "69572      functional  \n",
       "8776       functional  \n",
       "34310      functional  \n",
       "67743  non functional  \n",
       "19728      functional  \n",
       "\n",
       "[5 rows x 40 columns]"
      ]
     },
     "execution_count": 2,
     "metadata": {},
     "output_type": "execute_result"
    }
   ],
   "source": [
    "import pandas as pd\n",
    "\n",
    "df = pd.merge(pd.read_csv(DATA_PATH + 'waterpumps/train_features.csv'),\n",
    "              pd.read_csv(DATA_PATH + 'waterpumps/train_labels.csv'))\n",
    "# YOUR CODE HERE\n",
    "df = df.set_index('id')\n",
    "\n",
    "df.head()"
   ]
  },
  {
   "cell_type": "markdown",
   "metadata": {
    "deletable": false,
    "editable": false,
    "nbgrader": {
     "cell_type": "markdown",
     "checksum": "58baf16b195a2c6f4cc23ee09560dbf7",
     "grade": false,
     "grade_id": "cell-f09f47f6f4e63cc9",
     "locked": true,
     "schema_version": 3,
     "solution": false,
     "task": false
    }
   },
   "source": [
    "**Test 2**"
   ]
  },
  {
   "cell_type": "code",
   "execution_count": 3,
   "metadata": {
    "deletable": false,
    "editable": false,
    "nbgrader": {
     "cell_type": "code",
     "checksum": "81daab28521dfd13be1016b273534926",
     "grade": true,
     "grade_id": "cell-caa83cb6363d0cd7",
     "locked": true,
     "points": 1,
     "schema_version": 3,
     "solution": false,
     "task": false
    }
   },
   "outputs": [],
   "source": [
    "'''Task 2 Testing'''\n",
    "\n",
    "assert isinstance(df, pd.DataFrame), 'Have you created the DataFrame `df`?'\n",
    "assert df.shape == (59400, 40), '`df` is the wrong shape. Did you set the index to `id`?'\n",
    "assert 69572 in df.index, 'The index for `df` is has the wrong values. Did you set the index to `id`?'"
   ]
  },
  {
   "cell_type": "markdown",
   "metadata": {
    "deletable": false,
    "editable": false,
    "nbgrader": {
     "cell_type": "markdown",
     "checksum": "26f7a327a6b7a3e2e00173e6f75519bd",
     "grade": false,
     "grade_id": "cell-1a84f0ae77611032",
     "locked": true,
     "schema_version": 3,
     "solution": false,
     "task": false
    }
   },
   "source": [
    "## Split Data\n",
    "\n",
    "**Task 3:** Create your target vector `y` and feature matrix `X`."
   ]
  },
  {
   "cell_type": "code",
   "execution_count": 4,
   "metadata": {
    "deletable": false,
    "nbgrader": {
     "cell_type": "code",
     "checksum": "06665db4ef96abbf7f715c4dd554f19b",
     "grade": false,
     "grade_id": "cell-c94bceb606d02353",
     "locked": false,
     "schema_version": 3,
     "solution": true,
     "task": false
    },
    "scrolled": true
   },
   "outputs": [],
   "source": [
    "target = 'status_group'\n",
    "\n",
    "# YOUR CODE HERE\n",
    "\n",
    "y = df[target]\n",
    "X = df.drop(target, axis=1)"
   ]
  },
  {
   "cell_type": "markdown",
   "metadata": {
    "deletable": false,
    "editable": false,
    "nbgrader": {
     "cell_type": "markdown",
     "checksum": "0386c0e16323e2419d61f55374d0df05",
     "grade": false,
     "grade_id": "cell-48167ea99a6356ae",
     "locked": true,
     "schema_version": 3,
     "solution": false,
     "task": false
    }
   },
   "source": [
    "**Test 3**"
   ]
  },
  {
   "cell_type": "code",
   "execution_count": 5,
   "metadata": {
    "deletable": false,
    "editable": false,
    "nbgrader": {
     "cell_type": "code",
     "checksum": "5a2b2452b4ad94e5b5a562a185779dff",
     "grade": true,
     "grade_id": "cell-d0b6777daf75d805",
     "locked": true,
     "points": 1,
     "schema_version": 3,
     "solution": false,
     "task": false
    }
   },
   "outputs": [],
   "source": [
    "'''Task 3 Testing'''\n",
    "\n",
    "assert isinstance(X, pd.DataFrame), '`X` is the wrong data type.'\n",
    "assert isinstance(y, pd.Series), '`y` is the wrong data type.'\n",
    "assert y.shape == (59400,), '`y` is the wrong shape.'\n",
    "assert X.shape == (59400,39), '`X` is the wrong shape.'"
   ]
  },
  {
   "cell_type": "markdown",
   "metadata": {
    "deletable": false,
    "editable": false,
    "nbgrader": {
     "cell_type": "markdown",
     "checksum": "ad5f005274a47a2acc8d9bb8bc8bbd84",
     "grade": false,
     "grade_id": "cell-96e0701792e522b6",
     "locked": true,
     "schema_version": 3,
     "solution": false,
     "task": false
    }
   },
   "source": [
    "We already have a test set for this model, the `test.csv` that you'll use to make the predictions you'll upload to Kaggle. However, since our competition only allows for 2 submissions per day, we need a way to estimate our training error so that we can quickly iterate and improve our model. We can achieve this by creating a validation set from the data we have.\n",
    "\n",
    "**Task 4:** Split `X` and `y` into training and validation sets. Your validation set should be 20% of the data you have. You should have four variables: `X_train`, `X_val`, `y_train`, and `y_val`. "
   ]
  },
  {
   "cell_type": "code",
   "execution_count": 6,
   "metadata": {
    "deletable": false,
    "nbgrader": {
     "cell_type": "code",
     "checksum": "4b417b896298dc539f4d351d4f958172",
     "grade": false,
     "grade_id": "cell-018b7c0deecc89dc",
     "locked": false,
     "schema_version": 3,
     "solution": true,
     "task": false
    }
   },
   "outputs": [
    {
     "data": {
      "text/plain": [
       "((47520, 39), (11880, 39), (47520,), (11880,))"
      ]
     },
     "execution_count": 6,
     "metadata": {},
     "output_type": "execute_result"
    }
   ],
   "source": [
    "from sklearn.model_selection import train_test_split\n",
    "\n",
    "# YOUR CODE HERE\n",
    "X_train, X_val = train_test_split(X, train_size=0.80, test_size=0.20,\n",
    "                             stratify=df['status_group'])\n",
    "\n",
    "y_train, y_val = train_test_split(y, train_size=0.80, test_size=0.20,\n",
    "                             stratify=df['status_group'])\n",
    "\n",
    "X_train.shape, X_val.shape, y_train.shape, y_val.shape"
   ]
  },
  {
   "cell_type": "markdown",
   "metadata": {
    "deletable": false,
    "editable": false,
    "nbgrader": {
     "cell_type": "markdown",
     "checksum": "614aceebebbcb231254f1ae7a842a77e",
     "grade": false,
     "grade_id": "cell-ab9ee727cfdc0131",
     "locked": true,
     "schema_version": 3,
     "solution": false,
     "task": false
    }
   },
   "source": [
    "**Test 4**"
   ]
  },
  {
   "cell_type": "code",
   "execution_count": 7,
   "metadata": {
    "deletable": false,
    "editable": false,
    "nbgrader": {
     "cell_type": "code",
     "checksum": "7b998b6a51e9a2c17bbd024717a901ab",
     "grade": true,
     "grade_id": "cell-b1436df7d5901b26",
     "locked": true,
     "points": 1,
     "schema_version": 3,
     "solution": false,
     "task": false
    }
   },
   "outputs": [],
   "source": [
    "'''Task 4 Testing'''\n",
    "\n",
    "assert X_train.shape == (47520, 39), '`X_train` is the wrong shape.'\n",
    "assert X_val.shape == (11880, 39), '`X_val` is the wrong shape.'\n",
    "assert y_train.shape == (47520,), '`y_train` is the wrong shape.'\n",
    "assert y_val.shape == (11880,), '`y_val` is the wrong shape.'"
   ]
  },
  {
   "cell_type": "markdown",
   "metadata": {
    "deletable": false,
    "editable": false,
    "nbgrader": {
     "cell_type": "markdown",
     "checksum": "e787af946d17a1f823c209349a810942",
     "grade": false,
     "grade_id": "cell-4eb573c00f7e3219",
     "locked": true,
     "schema_version": 3,
     "solution": false,
     "task": false
    }
   },
   "source": [
    "## Establish Baseline\n",
    "\n",
    "**Task 5:** This is a **classification** problem, so you need to establish the baseline accuracy for your training set. Find the majority class for `y_train` and calculate the percentage of labels in `y_train` belonging to that class. Assign your answer to the variable name `baseline_acc`."
   ]
  },
  {
   "cell_type": "code",
   "execution_count": 8,
   "metadata": {
    "deletable": false,
    "nbgrader": {
     "cell_type": "code",
     "checksum": "6b5e3397d4e5c153e839b6fb53525f76",
     "grade": false,
     "grade_id": "cell-c6c63e2b6ff9e101",
     "locked": false,
     "schema_version": 3,
     "solution": true,
     "task": false
    }
   },
   "outputs": [
    {
     "name": "stdout",
     "output_type": "stream",
     "text": [
      "Baseline Accuracy: 0.5430765993265994\n"
     ]
    }
   ],
   "source": [
    "# YOUR CODE HERE\n",
    "baseline_acc = y_train.value_counts(normalize=True)[0]\n",
    "\n",
    "print('Baseline Accuracy:', baseline_acc)"
   ]
  },
  {
   "cell_type": "markdown",
   "metadata": {
    "deletable": false,
    "editable": false,
    "nbgrader": {
     "cell_type": "markdown",
     "checksum": "2d6a544256ca1f163fb33b115da2345e",
     "grade": false,
     "grade_id": "cell-cf3ce1fce46a2f72",
     "locked": true,
     "schema_version": 3,
     "solution": false,
     "task": false
    }
   },
   "source": [
    "**Task 5**"
   ]
  },
  {
   "cell_type": "code",
   "execution_count": 9,
   "metadata": {
    "deletable": false,
    "editable": false,
    "nbgrader": {
     "cell_type": "code",
     "checksum": "dad84b7c8b303e546add1509de1a0dd7",
     "grade": true,
     "grade_id": "cell-a0c23a1103429de2",
     "locked": true,
     "points": 1,
     "schema_version": 3,
     "solution": false,
     "task": false
    }
   },
   "outputs": [],
   "source": [
    "'''Task 5 Testing'''\n",
    "\n",
    "assert isinstance(baseline_acc, float), '`baseline_acc` should be a `float`.'\n",
    "assert 0.0 <= baseline_acc <= 1.0, '`baseline_acc` is a score that should be between 0 and 1.'"
   ]
  },
  {
   "cell_type": "markdown",
   "metadata": {
    "deletable": false,
    "editable": false,
    "nbgrader": {
     "cell_type": "markdown",
     "checksum": "8ff10811aa8b551ae8d1f93475d566fc",
     "grade": false,
     "grade_id": "cell-10c13b070533d8b5",
     "locked": true,
     "schema_version": 3,
     "solution": false,
     "task": false
    }
   },
   "source": [
    "## Build Model"
   ]
  },
  {
   "cell_type": "markdown",
   "metadata": {
    "deletable": false,
    "editable": false,
    "nbgrader": {
     "cell_type": "markdown",
     "checksum": "92d0226782f7a5b7b1a41be67a0cf1ae",
     "grade": false,
     "grade_id": "cell-9759a1c2167a5dfc",
     "locked": true,
     "schema_version": 3,
     "solution": false,
     "task": false
    }
   },
   "source": [
    "**Task 6:** Create a model named `model` and train it with your training data. Your model should be a pipeline with (a) transformers that you think are appropriate to this dataset and (b) a `DecisionTreeClassifier` as your predictor. **Tip:** How can you transform categorical features and missing values in order to train your model?"
   ]
  },
  {
   "cell_type": "code",
   "execution_count": 10,
   "metadata": {
    "deletable": false,
    "nbgrader": {
     "cell_type": "code",
     "checksum": "8c5b2cabd3d5d1adbfad3706bd025cd4",
     "grade": false,
     "grade_id": "cell-0c7c4d20b0f0fc70",
     "locked": false,
     "schema_version": 3,
     "solution": true,
     "task": false
    }
   },
   "outputs": [],
   "source": [
    "from category_encoders import OrdinalEncoder\n",
    "from sklearn.impute import SimpleImputer\n",
    "from sklearn.pipeline import make_pipeline\n",
    "from sklearn.tree import DecisionTreeClassifier\n",
    "import category_encoders as ce\n",
    "\n",
    "# YOUR CODE HERE\n",
    "import numpy as np\n",
    "\n",
    "def wrangle(X):\n",
    "    X = X.copy()\n",
    "    X['latitude'] = X['latitude'].replace(-2e-08, 0)\n",
    "    cols_with_zeros = ['longitude', 'latitude']\n",
    "    for col in cols_with_zeros:\n",
    "        X[col] = X[col].replace(0, np.nan)\n",
    "    X = X.drop(columns='quantity_group')\n",
    "    return X"
   ]
  },
  {
   "cell_type": "code",
   "execution_count": 11,
   "metadata": {},
   "outputs": [],
   "source": [
    "X_train = wrangle(X_train)\n",
    "X_val = wrangle(X_val)"
   ]
  },
  {
   "cell_type": "code",
   "execution_count": 12,
   "metadata": {
    "scrolled": false
   },
   "outputs": [
    {
     "data": {
      "text/html": [
       "<div>\n",
       "<style scoped>\n",
       "    .dataframe tbody tr th:only-of-type {\n",
       "        vertical-align: middle;\n",
       "    }\n",
       "\n",
       "    .dataframe tbody tr th {\n",
       "        vertical-align: top;\n",
       "    }\n",
       "\n",
       "    .dataframe thead th {\n",
       "        text-align: right;\n",
       "    }\n",
       "</style>\n",
       "<table border=\"1\" class=\"dataframe\">\n",
       "  <thead>\n",
       "    <tr style=\"text-align: right;\">\n",
       "      <th></th>\n",
       "      <th></th>\n",
       "      <th></th>\n",
       "      <th></th>\n",
       "      <th></th>\n",
       "      <th></th>\n",
       "      <th></th>\n",
       "      <th></th>\n",
       "      <th></th>\n",
       "      <th></th>\n",
       "      <th></th>\n",
       "      <th></th>\n",
       "      <th></th>\n",
       "      <th></th>\n",
       "      <th></th>\n",
       "      <th></th>\n",
       "      <th></th>\n",
       "      <th></th>\n",
       "      <th></th>\n",
       "      <th></th>\n",
       "      <th></th>\n",
       "      <th></th>\n",
       "      <th></th>\n",
       "      <th></th>\n",
       "      <th></th>\n",
       "      <th></th>\n",
       "      <th></th>\n",
       "      <th></th>\n",
       "      <th></th>\n",
       "      <th></th>\n",
       "      <th></th>\n",
       "      <th></th>\n",
       "      <th></th>\n",
       "      <th></th>\n",
       "      <th></th>\n",
       "      <th></th>\n",
       "      <th></th>\n",
       "      <th></th>\n",
       "      <th>0</th>\n",
       "    </tr>\n",
       "    <tr>\n",
       "      <th>amount_tsh</th>\n",
       "      <th>date_recorded</th>\n",
       "      <th>funder</th>\n",
       "      <th>gps_height</th>\n",
       "      <th>installer</th>\n",
       "      <th>longitude</th>\n",
       "      <th>latitude</th>\n",
       "      <th>wpt_name</th>\n",
       "      <th>num_private</th>\n",
       "      <th>basin</th>\n",
       "      <th>subvillage</th>\n",
       "      <th>region</th>\n",
       "      <th>region_code</th>\n",
       "      <th>district_code</th>\n",
       "      <th>lga</th>\n",
       "      <th>ward</th>\n",
       "      <th>population</th>\n",
       "      <th>public_meeting</th>\n",
       "      <th>recorded_by</th>\n",
       "      <th>scheme_management</th>\n",
       "      <th>scheme_name</th>\n",
       "      <th>permit</th>\n",
       "      <th>construction_year</th>\n",
       "      <th>extraction_type</th>\n",
       "      <th>extraction_type_group</th>\n",
       "      <th>extraction_type_class</th>\n",
       "      <th>management</th>\n",
       "      <th>management_group</th>\n",
       "      <th>payment</th>\n",
       "      <th>payment_type</th>\n",
       "      <th>water_quality</th>\n",
       "      <th>quality_group</th>\n",
       "      <th>quantity</th>\n",
       "      <th>source</th>\n",
       "      <th>source_type</th>\n",
       "      <th>source_class</th>\n",
       "      <th>waterpoint_type</th>\n",
       "      <th>waterpoint_type_group</th>\n",
       "      <th></th>\n",
       "    </tr>\n",
       "  </thead>\n",
       "  <tbody>\n",
       "    <tr>\n",
       "      <th>0.0</th>\n",
       "      <th>2004-03-01</th>\n",
       "      <th>Caltus</th>\n",
       "      <th>1856</th>\n",
       "      <th>Cultus</th>\n",
       "      <th>31.539761</th>\n",
       "      <th>-7.983106</th>\n",
       "      <th>Kwa Pambajila</th>\n",
       "      <th>0</th>\n",
       "      <th>Lake Tanganyika</th>\n",
       "      <th>Magomeni</th>\n",
       "      <th>Rukwa</th>\n",
       "      <th>15</th>\n",
       "      <th>4</th>\n",
       "      <th>Sumbawanga Urban</th>\n",
       "      <th>Kasense</th>\n",
       "      <th>900</th>\n",
       "      <th>True</th>\n",
       "      <th>GeoData Consultants Ltd</th>\n",
       "      <th>VWC</th>\n",
       "      <th>Mradi wa maji wa kasen</th>\n",
       "      <th>True</th>\n",
       "      <th>2005</th>\n",
       "      <th>gravity</th>\n",
       "      <th>gravity</th>\n",
       "      <th>gravity</th>\n",
       "      <th>vwc</th>\n",
       "      <th>user-group</th>\n",
       "      <th>never pay</th>\n",
       "      <th>never pay</th>\n",
       "      <th>soft</th>\n",
       "      <th>good</th>\n",
       "      <th>dry</th>\n",
       "      <th>spring</th>\n",
       "      <th>spring</th>\n",
       "      <th>groundwater</th>\n",
       "      <th>communal standpipe</th>\n",
       "      <th>communal standpipe</th>\n",
       "      <td>1</td>\n",
       "    </tr>\n",
       "    <tr>\n",
       "      <th rowspan=\"4\" valign=\"top\">30.0</th>\n",
       "      <th>2013-01-18</th>\n",
       "      <th>Government Of Tanzania</th>\n",
       "      <th>155</th>\n",
       "      <th>District Council</th>\n",
       "      <th>39.289690</th>\n",
       "      <th>-10.315892</th>\n",
       "      <th>Kwa Paul Nyagaya</th>\n",
       "      <th>0</th>\n",
       "      <th>Ruvuma / Southern Coast</th>\n",
       "      <th>Nakadi</th>\n",
       "      <th>Lindi</th>\n",
       "      <th>80</th>\n",
       "      <th>23</th>\n",
       "      <th>Lindi Rural</th>\n",
       "      <th>Nyangao</th>\n",
       "      <th>1</th>\n",
       "      <th>False</th>\n",
       "      <th>GeoData Consultants Ltd</th>\n",
       "      <th>WUA</th>\n",
       "      <th>Nyangao Water Supply</th>\n",
       "      <th>False</th>\n",
       "      <th>2010</th>\n",
       "      <th>gravity</th>\n",
       "      <th>gravity</th>\n",
       "      <th>gravity</th>\n",
       "      <th>wua</th>\n",
       "      <th>user-group</th>\n",
       "      <th>pay per bucket</th>\n",
       "      <th>per bucket</th>\n",
       "      <th>soft</th>\n",
       "      <th>good</th>\n",
       "      <th>enough</th>\n",
       "      <th>river</th>\n",
       "      <th>river/lake</th>\n",
       "      <th>surface</th>\n",
       "      <th>communal standpipe multiple</th>\n",
       "      <th>communal standpipe</th>\n",
       "      <td>1</td>\n",
       "    </tr>\n",
       "    <tr>\n",
       "      <th rowspan=\"3\" valign=\"top\">2013-01-19</th>\n",
       "      <th rowspan=\"3\" valign=\"top\">Government Of Tanzania</th>\n",
       "      <th>83</th>\n",
       "      <th>District Council</th>\n",
       "      <th>39.376216</th>\n",
       "      <th>-10.294355</th>\n",
       "      <th>Kwa Mtanga</th>\n",
       "      <th>0</th>\n",
       "      <th>Ruvuma / Southern Coast</th>\n",
       "      <th>Mkunguni A</th>\n",
       "      <th>Lindi</th>\n",
       "      <th>80</th>\n",
       "      <th>23</th>\n",
       "      <th>Lindi Rural</th>\n",
       "      <th>Mtama</th>\n",
       "      <th>1</th>\n",
       "      <th>False</th>\n",
       "      <th>GeoData Consultants Ltd</th>\n",
       "      <th>WUA</th>\n",
       "      <th>Nyangao Water Supply</th>\n",
       "      <th>False</th>\n",
       "      <th>2010</th>\n",
       "      <th>gravity</th>\n",
       "      <th>gravity</th>\n",
       "      <th>gravity</th>\n",
       "      <th>wua</th>\n",
       "      <th>user-group</th>\n",
       "      <th>pay per bucket</th>\n",
       "      <th>per bucket</th>\n",
       "      <th>soft</th>\n",
       "      <th>good</th>\n",
       "      <th>insufficient</th>\n",
       "      <th>river</th>\n",
       "      <th>river/lake</th>\n",
       "      <th>surface</th>\n",
       "      <th>communal standpipe multiple</th>\n",
       "      <th>communal standpipe</th>\n",
       "      <td>1</td>\n",
       "    </tr>\n",
       "    <tr>\n",
       "      <th>81</th>\n",
       "      <th>District Council</th>\n",
       "      <th>39.369811</th>\n",
       "      <th>-10.302435</th>\n",
       "      <th>Kwa Mzee Kalikonya</th>\n",
       "      <th>0</th>\n",
       "      <th>Ruvuma / Southern Coast</th>\n",
       "      <th>Mihogoni</th>\n",
       "      <th>Lindi</th>\n",
       "      <th>80</th>\n",
       "      <th>23</th>\n",
       "      <th>Lindi Rural</th>\n",
       "      <th>Mtama</th>\n",
       "      <th>1</th>\n",
       "      <th>False</th>\n",
       "      <th>GeoData Consultants Ltd</th>\n",
       "      <th>WUA</th>\n",
       "      <th>Nyangao Water Supply</th>\n",
       "      <th>False</th>\n",
       "      <th>2010</th>\n",
       "      <th>gravity</th>\n",
       "      <th>gravity</th>\n",
       "      <th>gravity</th>\n",
       "      <th>wua</th>\n",
       "      <th>user-group</th>\n",
       "      <th>pay per bucket</th>\n",
       "      <th>per bucket</th>\n",
       "      <th>soft</th>\n",
       "      <th>good</th>\n",
       "      <th>insufficient</th>\n",
       "      <th>river</th>\n",
       "      <th>river/lake</th>\n",
       "      <th>surface</th>\n",
       "      <th>communal standpipe multiple</th>\n",
       "      <th>communal standpipe</th>\n",
       "      <td>1</td>\n",
       "    </tr>\n",
       "    <tr>\n",
       "      <th>77</th>\n",
       "      <th>District Council</th>\n",
       "      <th>39.380568</th>\n",
       "      <th>-10.291267</th>\n",
       "      <th>Kwa Ntenje</th>\n",
       "      <th>0</th>\n",
       "      <th>Ruvuma / Southern Coast</th>\n",
       "      <th>Namindondi</th>\n",
       "      <th>Lindi</th>\n",
       "      <th>80</th>\n",
       "      <th>23</th>\n",
       "      <th>Lindi Rural</th>\n",
       "      <th>Mtama</th>\n",
       "      <th>1</th>\n",
       "      <th>False</th>\n",
       "      <th>GeoData Consultants Ltd</th>\n",
       "      <th>WUA</th>\n",
       "      <th>Nyangao Water Supply</th>\n",
       "      <th>False</th>\n",
       "      <th>2010</th>\n",
       "      <th>gravity</th>\n",
       "      <th>gravity</th>\n",
       "      <th>gravity</th>\n",
       "      <th>wua</th>\n",
       "      <th>user-group</th>\n",
       "      <th>pay per bucket</th>\n",
       "      <th>per bucket</th>\n",
       "      <th>soft</th>\n",
       "      <th>good</th>\n",
       "      <th>enough</th>\n",
       "      <th>river</th>\n",
       "      <th>river/lake</th>\n",
       "      <th>surface</th>\n",
       "      <th>communal standpipe multiple</th>\n",
       "      <th>communal standpipe</th>\n",
       "      <td>1</td>\n",
       "    </tr>\n",
       "    <tr>\n",
       "      <th>...</th>\n",
       "      <th>...</th>\n",
       "      <th>...</th>\n",
       "      <th>...</th>\n",
       "      <th>...</th>\n",
       "      <th>...</th>\n",
       "      <th>...</th>\n",
       "      <th>...</th>\n",
       "      <th>...</th>\n",
       "      <th>...</th>\n",
       "      <th>...</th>\n",
       "      <th>...</th>\n",
       "      <th>...</th>\n",
       "      <th>...</th>\n",
       "      <th>...</th>\n",
       "      <th>...</th>\n",
       "      <th>...</th>\n",
       "      <th>...</th>\n",
       "      <th>...</th>\n",
       "      <th>...</th>\n",
       "      <th>...</th>\n",
       "      <th>...</th>\n",
       "      <th>...</th>\n",
       "      <th>...</th>\n",
       "      <th>...</th>\n",
       "      <th>...</th>\n",
       "      <th>...</th>\n",
       "      <th>...</th>\n",
       "      <th>...</th>\n",
       "      <th>...</th>\n",
       "      <th>...</th>\n",
       "      <th>...</th>\n",
       "      <th>...</th>\n",
       "      <th>...</th>\n",
       "      <th>...</th>\n",
       "      <th>...</th>\n",
       "      <th>...</th>\n",
       "      <th>...</th>\n",
       "      <td>...</td>\n",
       "    </tr>\n",
       "    <tr>\n",
       "      <th rowspan=\"4\" valign=\"top\">0.0</th>\n",
       "      <th rowspan=\"4\" valign=\"top\">2013-01-04</th>\n",
       "      <th rowspan=\"4\" valign=\"top\">Government Of Tanzania</th>\n",
       "      <th>1145</th>\n",
       "      <th>Government</th>\n",
       "      <th>37.573669</th>\n",
       "      <th>-3.320793</th>\n",
       "      <th>Kwa Forti</th>\n",
       "      <th>0</th>\n",
       "      <th>Pangani</th>\n",
       "      <th>Barabarani</th>\n",
       "      <th>Kilimanjaro</th>\n",
       "      <th>3</th>\n",
       "      <th>4</th>\n",
       "      <th>Moshi Rural</th>\n",
       "      <th>Mwika Kusini</th>\n",
       "      <th>1</th>\n",
       "      <th>True</th>\n",
       "      <th>GeoData Consultants Ltd</th>\n",
       "      <th>WUA</th>\n",
       "      <th>Kisaika  pipeline</th>\n",
       "      <th>True</th>\n",
       "      <th>1970</th>\n",
       "      <th>gravity</th>\n",
       "      <th>gravity</th>\n",
       "      <th>gravity</th>\n",
       "      <th>wua</th>\n",
       "      <th>user-group</th>\n",
       "      <th>never pay</th>\n",
       "      <th>never pay</th>\n",
       "      <th>soft</th>\n",
       "      <th>good</th>\n",
       "      <th>insufficient</th>\n",
       "      <th>spring</th>\n",
       "      <th>spring</th>\n",
       "      <th>groundwater</th>\n",
       "      <th>communal standpipe</th>\n",
       "      <th>communal standpipe</th>\n",
       "      <td>1</td>\n",
       "    </tr>\n",
       "    <tr>\n",
       "      <th>1123</th>\n",
       "      <th>Government</th>\n",
       "      <th>37.559239</th>\n",
       "      <th>-3.320725</th>\n",
       "      <th>Shuleni Kondeni</th>\n",
       "      <th>0</th>\n",
       "      <th>Pangani</th>\n",
       "      <th>Onyonya</th>\n",
       "      <th>Kilimanjaro</th>\n",
       "      <th>3</th>\n",
       "      <th>4</th>\n",
       "      <th>Moshi Rural</th>\n",
       "      <th>Mwika Kusini</th>\n",
       "      <th>1</th>\n",
       "      <th>True</th>\n",
       "      <th>GeoData Consultants Ltd</th>\n",
       "      <th>WUA</th>\n",
       "      <th>Matala pipeline</th>\n",
       "      <th>True</th>\n",
       "      <th>1970</th>\n",
       "      <th>gravity</th>\n",
       "      <th>gravity</th>\n",
       "      <th>gravity</th>\n",
       "      <th>wua</th>\n",
       "      <th>user-group</th>\n",
       "      <th>pay monthly</th>\n",
       "      <th>monthly</th>\n",
       "      <th>soft</th>\n",
       "      <th>good</th>\n",
       "      <th>insufficient</th>\n",
       "      <th>spring</th>\n",
       "      <th>spring</th>\n",
       "      <th>groundwater</th>\n",
       "      <th>communal standpipe multiple</th>\n",
       "      <th>communal standpipe</th>\n",
       "      <td>1</td>\n",
       "    </tr>\n",
       "    <tr>\n",
       "      <th>1100</th>\n",
       "      <th>Government</th>\n",
       "      <th>37.572528</th>\n",
       "      <th>-3.325424</th>\n",
       "      <th>Kwa Mchungaji Urassa</th>\n",
       "      <th>0</th>\n",
       "      <th>Pangani</th>\n",
       "      <th>Barabarani</th>\n",
       "      <th>Kilimanjaro</th>\n",
       "      <th>3</th>\n",
       "      <th>4</th>\n",
       "      <th>Moshi Rural</th>\n",
       "      <th>Mwika Kusini</th>\n",
       "      <th>1</th>\n",
       "      <th>True</th>\n",
       "      <th>GeoData Consultants Ltd</th>\n",
       "      <th>WUA</th>\n",
       "      <th>Kisaika  pipeline</th>\n",
       "      <th>True</th>\n",
       "      <th>1970</th>\n",
       "      <th>gravity</th>\n",
       "      <th>gravity</th>\n",
       "      <th>gravity</th>\n",
       "      <th>wua</th>\n",
       "      <th>user-group</th>\n",
       "      <th>never pay</th>\n",
       "      <th>never pay</th>\n",
       "      <th>soft</th>\n",
       "      <th>good</th>\n",
       "      <th>insufficient</th>\n",
       "      <th>spring</th>\n",
       "      <th>spring</th>\n",
       "      <th>groundwater</th>\n",
       "      <th>communal standpipe multiple</th>\n",
       "      <th>communal standpipe</th>\n",
       "      <td>1</td>\n",
       "    </tr>\n",
       "    <tr>\n",
       "      <th>1046</th>\n",
       "      <th>Government</th>\n",
       "      <th>37.569841</th>\n",
       "      <th>-3.332209</th>\n",
       "      <th>Kwa Mrema</th>\n",
       "      <th>0</th>\n",
       "      <th>Pangani</th>\n",
       "      <th>Barabarani</th>\n",
       "      <th>Kilimanjaro</th>\n",
       "      <th>3</th>\n",
       "      <th>4</th>\n",
       "      <th>Moshi Rural</th>\n",
       "      <th>Mwika Kusini</th>\n",
       "      <th>1</th>\n",
       "      <th>True</th>\n",
       "      <th>GeoData Consultants Ltd</th>\n",
       "      <th>WUA</th>\n",
       "      <th>Kisaika  pipeline</th>\n",
       "      <th>True</th>\n",
       "      <th>1970</th>\n",
       "      <th>gravity</th>\n",
       "      <th>gravity</th>\n",
       "      <th>gravity</th>\n",
       "      <th>wua</th>\n",
       "      <th>user-group</th>\n",
       "      <th>never pay</th>\n",
       "      <th>never pay</th>\n",
       "      <th>soft</th>\n",
       "      <th>good</th>\n",
       "      <th>insufficient</th>\n",
       "      <th>spring</th>\n",
       "      <th>spring</th>\n",
       "      <th>groundwater</th>\n",
       "      <th>communal standpipe multiple</th>\n",
       "      <th>communal standpipe</th>\n",
       "      <td>1</td>\n",
       "    </tr>\n",
       "    <tr>\n",
       "      <th>250000.0</th>\n",
       "      <th>2011-03-04</th>\n",
       "      <th>Ded</th>\n",
       "      <th>285</th>\n",
       "      <th>WU</th>\n",
       "      <th>38.410852</th>\n",
       "      <th>-6.117538</th>\n",
       "      <th>Miono Dispensary</th>\n",
       "      <th>0</th>\n",
       "      <th>Wami / Ruvu</th>\n",
       "      <th>Kipera B</th>\n",
       "      <th>Pwani</th>\n",
       "      <th>6</th>\n",
       "      <th>1</th>\n",
       "      <th>Bagamoyo</th>\n",
       "      <th>Miono</th>\n",
       "      <th>80</th>\n",
       "      <th>True</th>\n",
       "      <th>GeoData Consultants Ltd</th>\n",
       "      <th>WUA</th>\n",
       "      <th>Chalinze wate</th>\n",
       "      <th>True</th>\n",
       "      <th>2003</th>\n",
       "      <th>ksb</th>\n",
       "      <th>submersible</th>\n",
       "      <th>submersible</th>\n",
       "      <th>parastatal</th>\n",
       "      <th>parastatal</th>\n",
       "      <th>pay monthly</th>\n",
       "      <th>monthly</th>\n",
       "      <th>soft</th>\n",
       "      <th>good</th>\n",
       "      <th>enough</th>\n",
       "      <th>river</th>\n",
       "      <th>river/lake</th>\n",
       "      <th>surface</th>\n",
       "      <th>communal standpipe</th>\n",
       "      <th>communal standpipe</th>\n",
       "      <td>1</td>\n",
       "    </tr>\n",
       "  </tbody>\n",
       "</table>\n",
       "<p>21983 rows × 1 columns</p>\n",
       "</div>"
      ],
      "text/plain": [
       "                                                                                                                                                                                                                                                                                                                                                                                                                                                                                                                                                                                                             0\n",
       "amount_tsh date_recorded funder                 gps_height installer        longitude latitude   wpt_name             num_private basin                   subvillage region      region_code district_code lga              ward         population public_meeting recorded_by             scheme_management scheme_name            permit construction_year extraction_type extraction_type_group extraction_type_class management management_group payment        payment_type water_quality quality_group quantity     source source_type source_class waterpoint_type             waterpoint_type_group   \n",
       "0.0        2004-03-01    Caltus                 1856       Cultus           31.539761 -7.983106  Kwa Pambajila        0           Lake Tanganyika         Magomeni   Rukwa       15          4             Sumbawanga Urban Kasense      900        True           GeoData Consultants Ltd VWC               Mradi wa maji wa kasen True   2005              gravity         gravity               gravity               vwc        user-group       never pay      never pay    soft          good          dry          spring spring      groundwater  communal standpipe          communal standpipe     1\n",
       "30.0       2013-01-18    Government Of Tanzania 155        District Council 39.289690 -10.315892 Kwa Paul Nyagaya     0           Ruvuma / Southern Coast Nakadi     Lindi       80          23            Lindi Rural      Nyangao      1          False          GeoData Consultants Ltd WUA               Nyangao Water Supply   False  2010              gravity         gravity               gravity               wua        user-group       pay per bucket per bucket   soft          good          enough       river  river/lake  surface      communal standpipe multiple communal standpipe     1\n",
       "           2013-01-19    Government Of Tanzania 83         District Council 39.376216 -10.294355 Kwa Mtanga           0           Ruvuma / Southern Coast Mkunguni A Lindi       80          23            Lindi Rural      Mtama        1          False          GeoData Consultants Ltd WUA               Nyangao Water Supply   False  2010              gravity         gravity               gravity               wua        user-group       pay per bucket per bucket   soft          good          insufficient river  river/lake  surface      communal standpipe multiple communal standpipe     1\n",
       "                                                81         District Council 39.369811 -10.302435 Kwa Mzee Kalikonya   0           Ruvuma / Southern Coast Mihogoni   Lindi       80          23            Lindi Rural      Mtama        1          False          GeoData Consultants Ltd WUA               Nyangao Water Supply   False  2010              gravity         gravity               gravity               wua        user-group       pay per bucket per bucket   soft          good          insufficient river  river/lake  surface      communal standpipe multiple communal standpipe     1\n",
       "                                                77         District Council 39.380568 -10.291267 Kwa Ntenje           0           Ruvuma / Southern Coast Namindondi Lindi       80          23            Lindi Rural      Mtama        1          False          GeoData Consultants Ltd WUA               Nyangao Water Supply   False  2010              gravity         gravity               gravity               wua        user-group       pay per bucket per bucket   soft          good          enough       river  river/lake  surface      communal standpipe multiple communal standpipe     1\n",
       "...                                                                                                                                                                                                                                                                                                                                                                                                                                                                                                                                                                                                         ..\n",
       "0.0        2013-01-04    Government Of Tanzania 1145       Government       37.573669 -3.320793  Kwa Forti            0           Pangani                 Barabarani Kilimanjaro 3           4             Moshi Rural      Mwika Kusini 1          True           GeoData Consultants Ltd WUA               Kisaika  pipeline      True   1970              gravity         gravity               gravity               wua        user-group       never pay      never pay    soft          good          insufficient spring spring      groundwater  communal standpipe          communal standpipe     1\n",
       "                                                1123       Government       37.559239 -3.320725  Shuleni Kondeni      0           Pangani                 Onyonya    Kilimanjaro 3           4             Moshi Rural      Mwika Kusini 1          True           GeoData Consultants Ltd WUA               Matala pipeline        True   1970              gravity         gravity               gravity               wua        user-group       pay monthly    monthly      soft          good          insufficient spring spring      groundwater  communal standpipe multiple communal standpipe     1\n",
       "                                                1100       Government       37.572528 -3.325424  Kwa Mchungaji Urassa 0           Pangani                 Barabarani Kilimanjaro 3           4             Moshi Rural      Mwika Kusini 1          True           GeoData Consultants Ltd WUA               Kisaika  pipeline      True   1970              gravity         gravity               gravity               wua        user-group       never pay      never pay    soft          good          insufficient spring spring      groundwater  communal standpipe multiple communal standpipe     1\n",
       "                                                1046       Government       37.569841 -3.332209  Kwa Mrema            0           Pangani                 Barabarani Kilimanjaro 3           4             Moshi Rural      Mwika Kusini 1          True           GeoData Consultants Ltd WUA               Kisaika  pipeline      True   1970              gravity         gravity               gravity               wua        user-group       never pay      never pay    soft          good          insufficient spring spring      groundwater  communal standpipe multiple communal standpipe     1\n",
       "250000.0   2011-03-04    Ded                    285        WU               38.410852 -6.117538  Miono Dispensary     0           Wami / Ruvu             Kipera B   Pwani       6           1             Bagamoyo         Miono        80         True           GeoData Consultants Ltd WUA               Chalinze wate          True   2003              ksb             submersible           submersible           parastatal parastatal       pay monthly    monthly      soft          good          enough       river  river/lake  surface      communal standpipe          communal standpipe     1\n",
       "\n",
       "[21983 rows x 1 columns]"
      ]
     },
     "execution_count": 12,
     "metadata": {},
     "output_type": "execute_result"
    }
   ],
   "source": [
    "X_train.value_counts().to_frame()"
   ]
  },
  {
   "cell_type": "code",
   "execution_count": 13,
   "metadata": {},
   "outputs": [],
   "source": [
    "numeric_features = X_train.select_dtypes(include='number').columns.tolist()\n",
    "\n",
    "cardinality = X_train.select_dtypes(exclude='number').nunique()\n",
    "\n",
    "categorical_features = cardinality[cardinality <= 50].index.tolist()\n",
    "\n",
    "'''\n",
    "features = numeric_features + categorical_features , \n",
    "            'region_code', 'management', 'construction_year', 'basin', \n",
    "            'quality_group', 'waterpoint_type', 'management_group', \n",
    "            'payment_type', 'population'\n",
    "'''\n",
    "features = ['gps_height', 'latitude', 'longitude']\n",
    "X_train = X_train[features]\n",
    "X_val = X_val[features]"
   ]
  },
  {
   "cell_type": "code",
   "execution_count": 14,
   "metadata": {},
   "outputs": [
    {
     "name": "stdout",
     "output_type": "stream",
     "text": [
      "Train Accuracy 1 | 0.5430765993265994\n",
      "Validation Accuracy 1 | 0.5430976430976431\n"
     ]
    },
    {
     "name": "stderr",
     "output_type": "stream",
     "text": [
      "C:\\Users\\benja\\anaconda3\\envs\\unit2\\lib\\site-packages\\category_encoders\\utils.py:21: FutureWarning: is_categorical is deprecated and will be removed in a future version.  Use is_categorical_dtype instead\n",
      "  elif pd.api.types.is_categorical(cols):\n"
     ]
    }
   ],
   "source": [
    "for depth in [1]:\n",
    "    model = make_pipeline(\n",
    "        ce.OneHotEncoder(use_cat_names=True),\n",
    "        SimpleImputer(strategy='mean'),\n",
    "        DecisionTreeClassifier(min_samples_leaf=20, max_depth=depth, random_state=42)\n",
    "    )\n",
    "\n",
    "    model.fit(X_train, y_train);\n",
    "    \n",
    "    training_acc = model.score(X_train, y_train)\n",
    "    validation_acc = model.score(X_val, y_val)\n",
    "\n",
    "    print('Train Accuracy', depth,'|', model.score(X_train, y_train))\n",
    "    print('Validation Accuracy', depth, '|', model.score(X_val, y_val))"
   ]
  },
  {
   "cell_type": "code",
   "execution_count": 16,
   "metadata": {},
   "outputs": [
    {
     "data": {
      "text/plain": [
       "\"model = make_pipeline(\\n        ce.OneHotEncoder(use_cat_names=True),\\n        SimpleImputer(strategy='mean'),\\n        DecisionTreeClassifier(min_samples_leaf=20, random_state=42)\\n    )\\n\\nmodel.fit(X_train, y_train);\\n\\ntraining_acc = model.score(X_train, y_train)\\nvalidation_acc = model.score(X_val, y_val)\\n\""
      ]
     },
     "execution_count": 16,
     "metadata": {},
     "output_type": "execute_result"
    }
   ],
   "source": [
    "'''model = make_pipeline(\n",
    "        ce.OneHotEncoder(use_cat_names=True),\n",
    "        SimpleImputer(strategy='mean'),\n",
    "        DecisionTreeClassifier(min_samples_leaf=20, random_state=42)\n",
    "    )\n",
    "\n",
    "model.fit(X_train, y_train);\n",
    "\n",
    "training_acc = model.score(X_train, y_train)\n",
    "validation_acc = model.score(X_val, y_val)\n",
    "'''"
   ]
  },
  {
   "cell_type": "markdown",
   "metadata": {
    "deletable": false,
    "editable": false,
    "nbgrader": {
     "cell_type": "markdown",
     "checksum": "3be2e5b6636f8de879f37e7b93e17282",
     "grade": false,
     "grade_id": "cell-bd1f0e078ca61b7a",
     "locked": true,
     "schema_version": 3,
     "solution": false,
     "task": false
    }
   },
   "source": [
    "**Test 6**"
   ]
  },
  {
   "cell_type": "code",
   "execution_count": 17,
   "metadata": {
    "deletable": false,
    "editable": false,
    "nbgrader": {
     "cell_type": "code",
     "checksum": "acd5a348298e5f22c5e2dc1c4bc5f3e2",
     "grade": true,
     "grade_id": "cell-4edc1a13268269ac",
     "locked": true,
     "points": 1,
     "schema_version": 3,
     "solution": false,
     "task": false
    }
   },
   "outputs": [],
   "source": [
    "'''Task 6 Testing'''\n",
    "\n",
    "assert len(model) > 1, 'Your model pipeline should have multiple steps.'\n",
    "assert isinstance(model[-1], DecisionTreeClassifier), 'Your pipline should end in a `DecisionTreeClassifier`.'\n",
    "assert hasattr(model, 'classes_'), 'Have you fit your model?'"
   ]
  },
  {
   "cell_type": "markdown",
   "metadata": {
    "deletable": false,
    "editable": false,
    "nbgrader": {
     "cell_type": "markdown",
     "checksum": "4bde05f99cea7be1f76987db649f3452",
     "grade": false,
     "grade_id": "cell-c64ad7ac1b03f6da",
     "locked": true,
     "schema_version": 3,
     "solution": false,
     "task": false
    }
   },
   "source": [
    "## Check Metrics\n",
    "\n",
    "**Task 7:** Calculate the training and validation accuracy of your model, and assign them to the valiables `training_acc` and `validation_acc`, respectively. Your validation accuracy should be greater than your baseline accuracy."
   ]
  },
  {
   "cell_type": "code",
   "execution_count": 18,
   "metadata": {
    "deletable": false,
    "nbgrader": {
     "cell_type": "code",
     "checksum": "5ad0c7ee9de8fae4b1f309d13a194bbc",
     "grade": false,
     "grade_id": "cell-87a17042f6131ba5",
     "locked": false,
     "schema_version": 3,
     "solution": true,
     "task": false
    }
   },
   "outputs": [
    {
     "name": "stdout",
     "output_type": "stream",
     "text": [
      "Training Accuracy: 0.5430765993265994\n",
      "Validation Accuracy: 0.5430976430976431\n"
     ]
    },
    {
     "name": "stderr",
     "output_type": "stream",
     "text": [
      "C:\\Users\\benja\\anaconda3\\envs\\unit2\\lib\\site-packages\\category_encoders\\utils.py:21: FutureWarning: is_categorical is deprecated and will be removed in a future version.  Use is_categorical_dtype instead\n",
      "  elif pd.api.types.is_categorical(cols):\n"
     ]
    }
   ],
   "source": [
    "# YOUR CODE HERE\n",
    "for depth in [1]:\n",
    "    model = make_pipeline(\n",
    "        ce.OneHotEncoder(use_cat_names=True),\n",
    "        SimpleImputer(strategy='mean'),\n",
    "        DecisionTreeClassifier(min_samples_leaf=20, max_depth=depth, random_state=42)\n",
    "    )\n",
    "\n",
    "    model.fit(X_train, y_train);\n",
    "    \n",
    "    training_acc = model.score(X_train, y_train)\n",
    "    validation_acc = model.score(X_val, y_val)\n",
    "    \n",
    "print('Training Accuracy:', training_acc)\n",
    "print('Validation Accuracy:', validation_acc)"
   ]
  },
  {
   "cell_type": "markdown",
   "metadata": {
    "deletable": false,
    "editable": false,
    "nbgrader": {
     "cell_type": "markdown",
     "checksum": "7187c867400846bff1a47be9c11e4651",
     "grade": false,
     "grade_id": "cell-8d44b362513262b9",
     "locked": true,
     "schema_version": 3,
     "solution": false,
     "task": false
    }
   },
   "source": [
    "**Test 7**"
   ]
  },
  {
   "cell_type": "code",
   "execution_count": 19,
   "metadata": {
    "deletable": false,
    "editable": false,
    "nbgrader": {
     "cell_type": "code",
     "checksum": "c28add2cc4da7249cd4a9b4e367abb1f",
     "grade": true,
     "grade_id": "cell-5b2575d28995d5be",
     "locked": true,
     "points": 1,
     "schema_version": 3,
     "solution": false,
     "task": false
    }
   },
   "outputs": [],
   "source": [
    "'''Task 7 Testing'''\n",
    "\n",
    "assert isinstance(training_acc, float)\n",
    "assert isinstance(validation_acc, float)\n",
    "assert 0.0 <= training_acc <= 1.0\n",
    "assert 0.0 <= validation_acc <= 1.0"
   ]
  },
  {
   "cell_type": "code",
   "execution_count": null,
   "metadata": {},
   "outputs": [],
   "source": [
    "X_train.dtypes"
   ]
  },
  {
   "cell_type": "code",
   "execution_count": null,
   "metadata": {},
   "outputs": [],
   "source": [
    "tree = DecisionTreeClassifier().fit(X_train, y_train)\n",
    "tree.feature_importances_"
   ]
  },
  {
   "cell_type": "markdown",
   "metadata": {
    "deletable": false,
    "editable": false,
    "nbgrader": {
     "cell_type": "markdown",
     "checksum": "dbe8e21b37bb8bbcf790f6c3bb82409d",
     "grade": false,
     "grade_id": "cell-20e570b001622e4d",
     "locked": true,
     "schema_version": 3,
     "solution": false,
     "task": false
    }
   },
   "source": [
    "## Create Kaggle Submission\n",
    "\n",
    "**Task 8:** Load `'waterpumps/test.csv'` into a DataFrame named `X_test`. Generate a list of predictions, and then put them into a DataFrame `submission`. Be sure that `submission` has the same index as `X_test` and that the column name for your predictions is `'status_group'`.  "
   ]
  },
  {
   "cell_type": "code",
   "execution_count": null,
   "metadata": {
    "deletable": false,
    "nbgrader": {
     "cell_type": "code",
     "checksum": "751e42e23ad01c840e677d9061441489",
     "grade": false,
     "grade_id": "cell-f449c26c27917323",
     "locked": false,
     "schema_version": 3,
     "solution": true,
     "task": false
    }
   },
   "outputs": [],
   "source": [
    "X_test = pd.read_csv(DATA_PATH + 'waterpumps/test_features.csv', index_col='id')\n",
    "# YOUR CODE HERE\n",
    "raise NotImplementedError()\n",
    "\n",
    "submission.head()"
   ]
  },
  {
   "cell_type": "markdown",
   "metadata": {
    "deletable": false,
    "editable": false,
    "nbgrader": {
     "cell_type": "markdown",
     "checksum": "c3ea8f69c1f63c2fc7c6b4dc9f36a4c7",
     "grade": false,
     "grade_id": "cell-88bdf757927010d2",
     "locked": true,
     "schema_version": 3,
     "solution": false,
     "task": false
    }
   },
   "source": [
    "**Test 8**"
   ]
  },
  {
   "cell_type": "code",
   "execution_count": null,
   "metadata": {
    "deletable": false,
    "editable": false,
    "nbgrader": {
     "cell_type": "code",
     "checksum": "de1de506bac0c572293dcf81b592fda3",
     "grade": true,
     "grade_id": "cell-7184784b1c67a971",
     "locked": true,
     "points": 1,
     "schema_version": 3,
     "solution": false,
     "task": false
    }
   },
   "outputs": [],
   "source": [
    "'''Task 8 Testing'''\n",
    "\n",
    "assert isinstance(submission, pd.DataFrame), '`submission` should be a DataFrame.'\n",
    "assert len(submission) == 14358, '`submission` should have 14358 rows.'"
   ]
  },
  {
   "cell_type": "markdown",
   "metadata": {
    "deletable": false,
    "editable": false,
    "nbgrader": {
     "cell_type": "markdown",
     "checksum": "9e1dd2ff80244929b807a600180c8db5",
     "grade": false,
     "grade_id": "cell-7501482e73c658e0",
     "locked": true,
     "schema_version": 3,
     "solution": false,
     "task": false
    }
   },
   "source": [
    "**Task 9 (`stretch goal`):** Save `submission` as a csv file using [`.to_csv()`](https://pandas.pydata.org/pandas-docs/stable/reference/api/pandas.DataFrame.to_csv.html) and submit it to our Kaggle competition."
   ]
  },
  {
   "cell_type": "code",
   "execution_count": null,
   "metadata": {
    "deletable": false,
    "nbgrader": {
     "cell_type": "code",
     "checksum": "53ceb2bae5f41f56eba8f65b2b56c38c",
     "grade": false,
     "grade_id": "cell-6a87d8169b9c48ea",
     "locked": false,
     "schema_version": 3,
     "solution": true,
     "task": false
    }
   },
   "outputs": [],
   "source": [
    "# YOUR CODE HERE\n",
    "raise NotImplementedError()"
   ]
  },
  {
   "cell_type": "markdown",
   "metadata": {
    "deletable": false,
    "editable": false,
    "nbgrader": {
     "cell_type": "markdown",
     "checksum": "cba7b6461310b5fab62266e978074a78",
     "grade": false,
     "grade_id": "cell-591ad5292d4e1ee1",
     "locked": true,
     "schema_version": 3,
     "solution": false,
     "task": false
    }
   },
   "source": [
    "## Explain\n",
    "\n",
    "**Task 10 (`stretch goal`):** Make a horizontal barchart of the 10 most important features for your model."
   ]
  },
  {
   "cell_type": "code",
   "execution_count": null,
   "metadata": {
    "deletable": false,
    "nbgrader": {
     "cell_type": "code",
     "checksum": "6e22d3e237d7383a3ca1bfa71f995bfc",
     "grade": false,
     "grade_id": "cell-297ec1119fbbaad5",
     "locked": false,
     "schema_version": 3,
     "solution": true,
     "task": false
    }
   },
   "outputs": [],
   "source": [
    "import matplotlib.pyplot as plt\n",
    "\n",
    "# YOUR CODE HERE\n",
    "raise NotImplementedError()"
   ]
  }
 ],
 "metadata": {
  "kernelspec": {
   "display_name": "Python 3",
   "language": "python",
   "name": "python3"
  },
  "language_info": {
   "codemirror_mode": {
    "name": "ipython",
    "version": 3
   },
   "file_extension": ".py",
   "mimetype": "text/x-python",
   "name": "python",
   "nbconvert_exporter": "python",
   "pygments_lexer": "ipython3",
   "version": "3.7.9"
  }
 },
 "nbformat": 4,
 "nbformat_minor": 1
}
